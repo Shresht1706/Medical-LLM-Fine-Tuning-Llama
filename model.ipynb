{
 "cells": [
  {
   "cell_type": "markdown",
   "metadata": {},
   "source": [
    "##Setting up WANDB for metric tracking and working of hugging face trainers and libraries"
   ]
  },
  {
   "cell_type": "code",
   "execution_count": null,
   "metadata": {},
   "outputs": [],
   "source": [
    "import os\n",
    "\n",
    "with open(\"wandb_key.txt\", \"r\") as f:\n",
    "    wandb_api_key = f.read().strip()\n",
    "\n",
    "os.environ[\"WANDB_API_KEY\"] = wandb_api_key"
   ]
  },
  {
   "cell_type": "markdown",
   "metadata": {},
   "source": [
    "## Step 1: Installing and importing the libraries"
   ]
  },
  {
   "cell_type": "code",
   "execution_count": null,
   "metadata": {},
   "outputs": [],
   "source": [
    "!pip uninstall accelerate peft bitsandbytes transformers trl -y\n",
    "!pip install accelerate peft==0.13.2 bitsandbytes transformers trl==0.12.0\n",
    "!pip install huggingface_hub"
   ]
  },
  {
   "cell_type": "code",
   "execution_count": null,
   "metadata": {},
   "outputs": [],
   "source": [
    "import torch\n",
    "from trl import SFTTrainer\n",
    "from peft import LoraConfig\n",
    "from datasets import load_dataset\n",
    "from transformers import (AutoModelForCausalLM, AutoTokenizer, BitsAndBytesConfig, TrainingArguments, pipeline)"
   ]
  },
  {
   "cell_type": "code",
   "execution_count": null,
   "metadata": {},
   "outputs": [],
   "source": [
    "## Step 2: Loading the model"
   ]
  },
  {
   "cell_type": "code",
   "execution_count": null,
   "metadata": {},
   "outputs": [],
   "source": [
    "model = AutoModelForCausalLM.from_pretrained(\n",
    "    pretrained_model_name_or_path = \"aboonaji/llama2finetune-v3\",\n",
    "    load_in_4bit=True,\n",
    "    bnb_4bit_compute_dtype=torch.float16, #setting float limit to 16 reducing accuracy but greatly helping speed and reducing space\n",
    "    bnb_4bit_quant_type=\"nf4\", #better than previous qunant type\n",
    "    bnb_4bit_use_double_quant=True, #Double quantisiation increasing compression\n",
    "    device_map=\"auto\" #allows usage of all gpus\n",
    ")\n",
    "\n",
    "model.config.use_cache = False #doesnt store output of previously computed layers\n",
    "model.config.pretraining_tp = 1 #deactivatves more accurate computations"
   ]
  },
  {
   "cell_type": "markdown",
   "metadata": {},
   "source": [
    "## Step 3: Loading the tokenizer"
   ]
  },
  {
   "cell_type": "code",
   "execution_count": null,
   "metadata": {},
   "outputs": [],
   "source": [
    "tknizer = AutoTokenizer.from_pretrained(\n",
    "    pretrained_model_name_or_path = \"aboonaji/llama2finetune-v3\",\n",
    "    trust_remote_code = True\n",
    ")"
   ]
  },
  {
   "cell_type": "code",
   "execution_count": null,
   "metadata": {},
   "outputs": [],
   "source": [
    "tknizer.pad_token = tknizer.eos_token #identifies pads as eos to avoid errors in training\n",
    "tknizer.padding_side = \"right\" #helps with right padding"
   ]
  },
  {
   "cell_type": "markdown",
   "metadata": {},
   "source": [
    "## Step 4: Setting the training arguments"
   ]
  },
  {
   "cell_type": "code",
   "execution_count": null,
   "metadata": {},
   "outputs": [],
   "source": [
    "training_arguements = TrainingArguments(\n",
    "    output_dir = \"./results\", \n",
    "    per_device_train_batch_size = 1, #cudnt train more than that\n",
    "    max_steps=100\n",
    "    ) #use lower device train batch size for time optimisation(also doesnt run on collab if high)"
   ]
  },
  {
   "cell_type": "markdown",
   "metadata": {},
   "source": [
    "## Step 5: Creating the Supervised Fine-Tuning trainer"
   ]
  },
  {
   "cell_type": "code",
   "execution_count": null,
   "metadata": {},
   "outputs": [],
   "source": [
    "sft_trainer = SFTTrainer(model = model, \n",
    "              args = training_arguements, \n",
    "              train_dataset = load_dataset(path = \"aboonaji/wiki_medical_terms_llam2_format\", split = \"train\"),\n",
    "              tokenizer = tknizer,\n",
    "              peft_config = LoraConfig(r = 128, lora_alpha = 16, lora_dropout = 0.05, task_type = \"CAUSAL_LM\"),\n",
    "              dataset_text_field = \"text\")"
   ]
  },
  {
   "cell_type": "code",
   "execution_count": null,
   "metadata": {},
   "outputs": [],
   "source": [
    "torch.cuda.empty_cache()    #empyts cache so that the vram doesnt get overloaded(PLEASE TURN OFF DEVICE MAP AUTO IF ON VM)\n"
   ]
  },
  {
   "cell_type": "markdown",
   "metadata": {},
   "source": [
    "## Step 6: Training the model and Prompting"
   ]
  },
  {
   "cell_type": "code",
   "execution_count": null,
   "metadata": {},
   "outputs": [],
   "source": [
    "sft_trainer.train()"
   ]
  },
  {
   "cell_type": "code",
   "execution_count": null,
   "metadata": {},
   "outputs": [],
   "source": [
    "user_prompt = \"please tell me about Piroplasmosis\"\n",
    "text_gen_pipe = pipeline(task = \"text-generation\", model = model, tokenizer = tknizer, max_length = 300)\n",
    "output = text_gen_pipe(f\"<s> [INST] {user_prompt} [/INST]\")\n",
    "print(output[0]['generated_text'])"
   ]
  }
 ],
 "metadata": {
  "kernelspec": {
   "display_name": ".venv",
   "language": "python",
   "name": "python3"
  },
  "language_info": {
   "name": "python",
   "version": "3.13.0"
  }
 },
 "nbformat": 4,
 "nbformat_minor": 2
}
